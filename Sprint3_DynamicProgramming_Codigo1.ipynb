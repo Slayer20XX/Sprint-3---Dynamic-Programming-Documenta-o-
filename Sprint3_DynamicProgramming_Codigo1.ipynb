{
  "nbformat": 4,
  "nbformat_minor": 0,
  "metadata": {
    "colab": {
      "provenance": []
    },
    "kernelspec": {
      "name": "python3",
      "display_name": "Python 3"
    },
    "language_info": {
      "name": "python"
    }
  },
  "cells": [
    {
      "cell_type": "markdown",
      "source": [
        "# **Sprint 3 - Dynamic Programming**\n",
        "\n",
        "**Nomes e RM dos Integrantes do Grupo:**\n",
        "- Matheus Taylor, RM556211\n",
        "- Henrique Maldonado, RM557270\n",
        "\n",
        "# **Sistema de Gerenciamento de Insumos para Laboratório de Patologia (Com Python)**"
      ],
      "metadata": {
        "id": "mW5VrbxAUoWS"
      }
    },
    {
      "cell_type": "markdown",
      "source": [
        "# **1 - Fila e Pilha**"
      ],
      "metadata": {
        "id": "8VxHM6EiHbma"
      }
    },
    {
      "cell_type": "markdown",
      "source": [
        "**Fila (Queue) - Registro de Consumo Diário**\n",
        "\n",
        "A fila é utilizada para registrar o consumo diário de insumos em ordem cronológica, garantindo que os primeiros itens consumidos sejam os primeiros a serem processados (FIFO - First In, First Out)."
      ],
      "metadata": {
        "id": "bDoKzj6xH2gM"
      }
    },
    {
      "cell_type": "code",
      "execution_count": 5,
      "metadata": {
        "id": "C_63OdqnG8SC"
      },
      "outputs": [],
      "source": [
        "class Fila:\n",
        "    def __init__(self):\n",
        "        self.itens = []\n",
        "\n",
        "    def enfileirar(self, item):\n",
        "        self.itens.append(item)\n",
        "\n",
        "    def desenfileirar(self):\n",
        "        if not self.esta_vazia():\n",
        "            return self.itens.pop(0)\n",
        "        return None\n",
        "\n",
        "    def esta_vazia(self):\n",
        "        return len(self.itens) == 0\n",
        "\n",
        "    def tamanho(self):\n",
        "        return len(self.itens)\n",
        "\n",
        "    def frente(self):\n",
        "        if not self.esta_vazia():\n",
        "            return self.itens[0]\n",
        "        return None"
      ]
    },
    {
      "cell_type": "markdown",
      "source": [
        "**Phila (Stack) - Consultas em Ordem Inversa**\n",
        "\n",
        "A pilha simula consultas em ordem inversa, permitindo acessar os últimos consumos primeiro (LIFO - Last In, First Out), útil para auditorias recentes."
      ],
      "metadata": {
        "id": "L2AkcmF5HcE9"
      }
    },
    {
      "cell_type": "code",
      "source": [
        "class Pilha:\n",
        "    def __init__(self):\n",
        "        self.itens = []\n",
        "\n",
        "    def empilhar(self, item):\n",
        "        self.itens.append(item)\n",
        "\n",
        "    def desempilhar(self):\n",
        "        if not self.esta_vazia():\n",
        "            return self.itens.pop()\n",
        "        return None\n",
        "\n",
        "    def esta_vazia(self):\n",
        "        return len(self.itens) == 0\n",
        "\n",
        "    def topo(self):\n",
        "        if not self.esta_vazia():\n",
        "            return self.itens[-1]\n",
        "        return None\n",
        "\n",
        "    def tamanho(self):\n",
        "        return len(self.itens)"
      ],
      "metadata": {
        "id": "qdVSqr7HHdWU"
      },
      "execution_count": null,
      "outputs": []
    },
    {
      "cell_type": "markdown",
      "source": [
        "# **Classe Insumo**\n",
        "\n",
        "Representa um insumo do laboratório com seus atributos:"
      ],
      "metadata": {
        "id": "I2CR-wzzHd2E"
      }
    },
    {
      "cell_type": "code",
      "source": [
        "class Insumo:\n",
        "    def __init__(self, nome, quantidade, validade):\n",
        "        self.nome = nome\n",
        "        self.quantidade = quantidade\n",
        "        self.validade = validade\n",
        "\n",
        "    def __str__(self):\n",
        "        return f\"{self.nome} - Qtd: {self.quantidade} - Validade: {self.validade}\"\n",
        "\n",
        "    def __repr__(self):\n",
        "        return self.__str__()"
      ],
      "metadata": {
        "id": "p_iqzBYVHeTF"
      },
      "execution_count": null,
      "outputs": []
    },
    {
      "cell_type": "markdown",
      "source": [
        "# **2 - Estruturas de Busca**"
      ],
      "metadata": {
        "id": "8eixZCJYHfMd"
      }
    },
    {
      "cell_type": "markdown",
      "source": [
        "# **Busca Sequencial**\n",
        "Procura um insumo percorrendo a lista elemento por elemento:"
      ],
      "metadata": {
        "id": "6OEZpC-sLN1S"
      }
    },
    {
      "cell_type": "code",
      "source": [
        "def busca_binaria(lista, nome):\n",
        "    inicio = 0\n",
        "    fim = len(lista) - 1\n",
        "\n",
        "    while inicio <= fim:\n",
        "        meio = (inicio + fim) // 2\n",
        "        if lista[meio].nome == nome:\n",
        "            return meio, lista[meio]\n",
        "        elif lista[meio].nome < nome:\n",
        "            inicio = meio + 1\n",
        "        else:\n",
        "            fim = meio - 1\n",
        "\n",
        "    return -1, None"
      ],
      "metadata": {
        "id": "a2aZE0hJHglA"
      },
      "execution_count": null,
      "outputs": []
    },
    {
      "cell_type": "markdown",
      "source": [
        "# **Busca Binária**\n",
        "\n",
        "Procura um insumo em uma lista ordenada, dividindo o espaço de busca pela metade a cada iteração:"
      ],
      "metadata": {
        "id": "FJP2BP-6LMJs"
      }
    },
    {
      "cell_type": "code",
      "source": [
        "def busca_binaria(lista, nome):\n",
        "    inicio = 0\n",
        "    fim = len(lista) - 1\n",
        "\n",
        "    while inicio <= fim:\n",
        "        meio = (inicio + fim) // 2\n",
        "        if lista[meio].nome == nome:\n",
        "            return meio, lista[meio]\n",
        "        elif lista[meio].nome < nome:\n",
        "            inicio = meio + 1\n",
        "        else:\n",
        "            fim = meio - 1\n",
        "\n",
        "    return -1, None"
      ],
      "metadata": {
        "id": "B8pck9ebLx4o"
      },
      "execution_count": 4,
      "outputs": []
    },
    {
      "cell_type": "markdown",
      "source": [
        "# **4 - Ordenação**"
      ],
      "metadata": {
        "id": "ZOKyoUnWMZz9"
      }
    },
    {
      "cell_type": "markdown",
      "source": [
        "# **Merge Sort**\n",
        "\n",
        "Divide a lista em sublistas menores, ordena-as e depois combina:"
      ],
      "metadata": {
        "id": "nl765nlRMler"
      }
    },
    {
      "cell_type": "code",
      "source": [
        "def merge_sort(lista, chave='quantidade'):\n",
        "    if len(lista) <= 1:\n",
        "        return lista\n",
        "\n",
        "    meio = len(lista) // 2\n",
        "    esquerda = merge_sort(lista[:meio], chave)\n",
        "    direita = merge_sort(lista[meio:], chave)\n",
        "\n",
        "    return merge(esquerda, direita, chave)\n",
        "\n",
        "def merge(esquerda, direita, chave):\n",
        "    resultado = []\n",
        "    i = j = 0\n",
        "\n",
        "    while i < len(esquerda) and j < len(direita):\n",
        "        if getattr(esquerda[i], chave) <= getattr(direita[j], chave):\n",
        "            resultado.append(esquerda[i])\n",
        "            i += 1\n",
        "        else:\n",
        "            resultado.append(direita[j])\n",
        "            j += 1\n",
        "\n",
        "    resultado.extend(esquerda[i:])\n",
        "    resultado.extend(direita[j:])\n",
        "\n",
        "    return resultado"
      ],
      "metadata": {
        "id": "m1YiZJEkM_PC"
      },
      "execution_count": 3,
      "outputs": []
    },
    {
      "cell_type": "markdown",
      "source": [
        "# **Quick Sort**\n",
        "\n",
        "Seleciona um pivô e particiona a lista em torno dele:"
      ],
      "metadata": {
        "id": "OzsLfVDeMvC3"
      }
    },
    {
      "cell_type": "code",
      "source": [
        "def quick_sort(lista, chave='quantidade'):\n",
        "    if len(lista) <= 1:\n",
        "        return lista\n",
        "\n",
        "    pilha = [(0, len(lista) - 1)]\n",
        "\n",
        "    while pilha:\n",
        "        inicio, fim = pilha.pop()\n",
        "        if inicio < fim:\n",
        "            pivô_idx = particionar(lista, inicio, fim, chave)\n",
        "            pilha.append((inicio, pivô_idx - 1))\n",
        "            pilha.append((pivô_idx + 1, fim))\n",
        "\n",
        "    return lista\n",
        "\n",
        "def particionar(lista, inicio, fim, chave):\n",
        "    pivô = getattr(lista[fim], chave)\n",
        "    i = inicio - 1\n",
        "\n",
        "    for j in range(inicio, fim):\n",
        "        if getattr(lista[j], chave) <= pivô:\n",
        "            i += 1\n",
        "            lista[i], lista[j] = lista[j], lista[i]\n",
        "\n",
        "    lista[i + 1], lista[fim] = lista[fim], lista[i + 1]\n",
        "    return i + 1"
      ],
      "metadata": {
        "id": "qC0upIqnNChZ"
      },
      "execution_count": 2,
      "outputs": []
    },
    {
      "cell_type": "markdown",
      "source": [
        "# **Sistema Principal do Código:**"
      ],
      "metadata": {
        "id": "IKr9g71fNMcL"
      }
    },
    {
      "cell_type": "code",
      "source": [
        "class SistemaInsumos:\n",
        "    def __init__(self):\n",
        "        self.fila_consumo = Fila()\n",
        "        self.pilha_consultas = Pilha()\n",
        "        self.insumos = []\n",
        "\n",
        "    def registrar_consumo(self, insumo):\n",
        "        \"\"\"Registra consumo na fila (ordem cronológica)\"\"\"\n",
        "        self.fila_consumo.enfileirar(insumo)\n",
        "        self.insumos.append(insumo)\n",
        "        print(f\"Consumo registrado: {insumo}\")\n",
        "\n",
        "    def consultar_ultimo_consumo(self):\n",
        "        \"\"\"Consulta último consumo usando pilha\"\"\"\n",
        "        if self.insumos:\n",
        "            ultimo = self.insumos[-1]\n",
        "            self.pilha_consultas.empilhar(ultimo)\n",
        "            print(f\"Último consumo: {ultimo}\")\n",
        "            return ultimo\n",
        "        print(\"Nenhum consumo registrado\")\n",
        "        return None\n",
        "\n",
        "    def processar_consumo_diario(self):\n",
        "        \"\"\"Processa todos os consumos do dia\"\"\"\n",
        "        print(\"Processando consumos diários:\")\n",
        "        while not self.fila_consumo.esta_vazia():\n",
        "            consumo = self.fila_consumo.desenfileirar()\n",
        "            print(f\"Processado: {consumo}\")\n",
        "\n",
        "    def buscar_insumo(self, nome, metodo='sequencial'):\n",
        "        \"\"\"Busca insumo usando método especificado\"\"\"\n",
        "        if metodo == 'sequencial':\n",
        "            indice, insumo = busca_sequencial(self.insumos, nome)\n",
        "        elif metodo == 'binaria':\n",
        "            # Para busca binária, a lista precisa estar ordenada\n",
        "            lista_ordenada = merge_sort(self.insumos, 'nome')\n",
        "            indice, insumo = busca_binaria(lista_ordenada, nome)\n",
        "        else:\n",
        "            raise ValueError(\"Método de busca inválido\")\n",
        "\n",
        "        if insumo:\n",
        "            print(f\"Insumo encontrado: {insumo}\")\n",
        "        else:\n",
        "            print(f\"Insumo '{nome}' não encontrado\")\n",
        "\n",
        "        return indice, insumo\n",
        "\n",
        "    def ordenar_insumos(self, criterio='quantidade', algoritmo='merge'):\n",
        "        \"\"\"Ordena insumos pelo critério especificado\"\"\"\n",
        "        if algoritmo == 'merge':\n",
        "            self.insumos = merge_sort(self.insumos, criterio)\n",
        "        elif algoritmo == 'quick':\n",
        "            self.insumos = quick_sort(self.insumos, criterio)\n",
        "        else:\n",
        "            raise ValueError(\"Algoritmo de ordenação inválido\")\n",
        "\n",
        "        print(f\"Insumos ordenados por {criterio} usando {algoritmo} sort:\")\n",
        "        for insumo in self.insumos:\n",
        "            print(insumo)"
      ],
      "metadata": {
        "id": "4SYyNrxANXdp"
      },
      "execution_count": 1,
      "outputs": []
    }
  ]
}